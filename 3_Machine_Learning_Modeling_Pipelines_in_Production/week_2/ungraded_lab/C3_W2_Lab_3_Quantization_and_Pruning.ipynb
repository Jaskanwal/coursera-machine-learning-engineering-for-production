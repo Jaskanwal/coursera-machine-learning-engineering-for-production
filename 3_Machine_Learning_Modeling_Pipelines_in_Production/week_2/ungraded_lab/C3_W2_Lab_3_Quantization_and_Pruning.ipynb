{
 "cells": [
  {
   "cell_type": "markdown",
   "metadata": {
    "id": "D3-cg2_rYfe6"
   },
   "source": [
    "# Ungraded Lab: Quantization and Pruning\n",
    "\n",
    "In this lab, you will get some hands-on practice with the mobile optimization techniques discussed in the lectures. These enable reduced model size and latency which makes it ideal for edge and IOT devices. You will start by training a Keras model then compare its model size and accuracy after going through these techniques:\n",
    "\n",
    "* post-training quantization\n",
    "* quantization aware training\n",
    "* weight pruning\n",
    "\n",
    "Let's begin!"
   ]
  },
  {
   "cell_type": "markdown",
   "metadata": {
    "id": "0gRaAOIsba55"
   },
   "source": [
    "## Imports"
   ]
  },
  {
   "cell_type": "markdown",
   "metadata": {
    "id": "4nVRm10UNHZ9"
   },
   "source": [
    "Let's first import a few common libraries that you'll be using throughout the notebook."
   ]
  },
  {
   "cell_type": "code",
   "execution_count": 1,
   "metadata": {
    "id": "9sL5kmRZbZxX"
   },
   "outputs": [],
   "source": [
    "import tensorflow as tf\n",
    "import numpy as np\n",
    "import os\n",
    "import tempfile\n",
    "import zipfile"
   ]
  },
  {
   "cell_type": "markdown",
   "metadata": {
    "id": "GS5gXwABm7XP"
   },
   "source": [
    "<a name='utilities'>\n",
    "\n",
    "## Utilities and constants\n",
    "\n",
    "Let's first define a few string constants and utility functions to make our code easier to maintain."
   ]
  },
  {
   "cell_type": "code",
   "execution_count": 2,
   "metadata": {
    "id": "nEuiXyPZMKQm"
   },
   "outputs": [],
   "source": [
    "# GLOBAL VARIABLES\n",
    "\n",
    "# String constants for model filenames\n",
    "FILE_WEIGHTS = 'baseline_weights.h5'\n",
    "FILE_NON_QUANTIZED_H5 = 'non_quantized.h5'\n",
    "FILE_NON_QUANTIZED_TFLITE = 'non_quantized.tflite'\n",
    "FILE_PT_QUANTIZED = 'post_training_quantized.tflite'\n",
    "FILE_QAT_QUANTIZED = 'quant_aware_quantized.tflite'\n",
    "FILE_PRUNED_MODEL_H5 = 'pruned_model.h5'\n",
    "FILE_PRUNED_QUANTIZED_TFLITE = 'pruned_quantized.tflite'\n",
    "FILE_PRUNED_NON_QUANTIZED_TFLITE = 'pruned_non_quantized.tflite'\n",
    "\n",
    "# Dictionaries to hold measurements\n",
    "MODEL_SIZE = {}\n",
    "ACCURACY = {}"
   ]
  },
  {
   "cell_type": "code",
   "execution_count": 3,
   "metadata": {
    "id": "pqdSGWccdk8G"
   },
   "outputs": [],
   "source": [
    "# UTILITY FUNCTIONS\n",
    "\n",
    "def print_metric(metric_dict, metric_name):\n",
    "  '''Prints key and values stored in a dictionary'''\n",
    "  for metric, value in metric_dict.items():\n",
    "    print(f'{metric_name} for {metric}: {value}')\n",
    "\n",
    "\n",
    "def model_builder():\n",
    "  '''Returns a shallow CNN for training on the MNIST dataset'''\n",
    "\n",
    "  keras = tf.keras\n",
    "\n",
    "  # Define the model architecture.\n",
    "  model = keras.Sequential([\n",
    "    keras.layers.InputLayer(input_shape=(28, 28)),\n",
    "    keras.layers.Reshape(target_shape=(28, 28, 1)),\n",
    "    keras.layers.Conv2D(filters=12, kernel_size=(3, 3), activation='relu'),\n",
    "    keras.layers.MaxPooling2D(pool_size=(2, 2)),\n",
    "    keras.layers.Flatten(),\n",
    "    keras.layers.Dense(10, activation='softmax')\n",
    "  ])\n",
    "\n",
    "  return model\n",
    "\n",
    "\n",
    "def evaluate_tflite_model(filename, x_test, y_test):\n",
    "  '''\n",
    "  Measures the accuracy of a given TF Lite model and test set\n",
    "\n",
    "  Args:\n",
    "    filename (string) - filename of the model to load\n",
    "    x_test (numpy array) - test images\n",
    "    y_test (numpy array) - test labels\n",
    "\n",
    "  Returns\n",
    "    float showing the accuracy against the test set\n",
    "  '''\n",
    "\n",
    "  # Initialize the TF Lite Interpreter and allocate tensors\n",
    "  interpreter = tf.lite.Interpreter(model_path=filename)\n",
    "  interpreter.allocate_tensors()\n",
    "\n",
    "  # Get input and output index\n",
    "  input_index = interpreter.get_input_details()[0][\"index\"]\n",
    "  output_index = interpreter.get_output_details()[0][\"index\"]\n",
    "\n",
    "  # Initialize empty predictions list\n",
    "  prediction_digits = []\n",
    "\n",
    "  # Run predictions on every image in the \"test\" dataset.\n",
    "  for i, test_image in enumerate(x_test):\n",
    "    # Pre-processing: add batch dimension and convert to float32 to match with\n",
    "    # the model's input data format.\n",
    "    test_image = np.expand_dims(test_image, axis=0).astype(np.float32)\n",
    "    interpreter.set_tensor(input_index, test_image)\n",
    "\n",
    "    # Run inference.\n",
    "    interpreter.invoke()\n",
    "\n",
    "    # Post-processing: remove batch dimension and find the digit with highest\n",
    "    # probability.\n",
    "    output = interpreter.tensor(output_index)\n",
    "    digit = np.argmax(output()[0])\n",
    "    prediction_digits.append(digit)\n",
    "\n",
    "  # Compare prediction results with ground truth labels to calculate accuracy.\n",
    "  prediction_digits = np.array(prediction_digits)\n",
    "  accuracy = (prediction_digits == y_test).mean()\n",
    "\n",
    "  return accuracy\n",
    "\n",
    "\n",
    "def get_gzipped_model_size(file):\n",
    "  '''Returns size of gzipped model, in bytes.'''\n",
    "  _, zipped_file = tempfile.mkstemp('.zip')\n",
    "  with zipfile.ZipFile(zipped_file, 'w', compression=zipfile.ZIP_DEFLATED) as f:\n",
    "    f.write(file)\n",
    "\n",
    "  return os.path.getsize(zipped_file)"
   ]
  },
  {
   "cell_type": "markdown",
   "metadata": {
    "id": "AxnjOqLpYawi"
   },
   "source": [
    "## Download and Prepare the Dataset"
   ]
  },
  {
   "cell_type": "markdown",
   "metadata": {
    "id": "rfC0D71tnVKr"
   },
   "source": [
    "You will be using the [MNIST](https://keras.io/api/datasets/mnist/) dataset which is hosted in [Keras Datasets](https://keras.io/api/datasets/). Some of the helper files in this notebook are made to work with this dataset so if you decide to switch to a different dataset, make sure to check if those helper functions need to be modified (e.g. shape of the Flatten layer in your model)."
   ]
  },
  {
   "cell_type": "code",
   "execution_count": 4,
   "metadata": {
    "id": "Z5f5Y08r0sob"
   },
   "outputs": [
    {
     "name": "stdout",
     "output_type": "stream",
     "text": [
      "Downloading data from https://storage.googleapis.com/tensorflow/tf-keras-datasets/mnist.npz\n",
      "11493376/11490434 [==============================] - 0s 0us/step\n",
      "11501568/11490434 [==============================] - 0s 0us/step\n"
     ]
    }
   ],
   "source": [
    "# Load MNIST dataset\n",
    "mnist = tf.keras.datasets.mnist\n",
    "(train_images, train_labels), (test_images, test_labels) = mnist.load_data()\n",
    "\n",
    "# Normalize the input image so that each pixel value is between 0 to 1.\n",
    "train_images = train_images / 255.0\n",
    "test_images = test_images / 255.0"
   ]
  },
  {
   "cell_type": "markdown",
   "metadata": {
    "id": "Czvt9P1EYnQT"
   },
   "source": [
    "## Baseline Model\n",
    "\n",
    "You will first build and train a Keras model. This will be the baseline where you will be comparing the mobile optimized versions later on. This will just be a shallow CNN with a softmax output to classify a given MNIST digit. You can review the `model_builder()` function in the utilities at the top of this notebook but we also printed the model summary below to show the architecture.\n",
    "\n",
    "You will also save the weights so you can reinitialize the other models later the same way. This is not needed in real projects but for this demo notebook, it would be good to have the same initial state later so you can compare the effects of the optimizations."
   ]
  },
  {
   "cell_type": "code",
   "execution_count": 5,
   "metadata": {
    "id": "3Ild5juYXu4j"
   },
   "outputs": [
    {
     "name": "stdout",
     "output_type": "stream",
     "text": [
      "Model: \"sequential\"\n",
      "_________________________________________________________________\n",
      " Layer (type)                Output Shape              Param #   \n",
      "=================================================================\n",
      " reshape (Reshape)           (None, 28, 28, 1)         0         \n",
      "                                                                 \n",
      " conv2d (Conv2D)             (None, 26, 26, 12)        120       \n",
      "                                                                 \n",
      " max_pooling2d (MaxPooling2D  (None, 13, 13, 12)       0         \n",
      " )                                                               \n",
      "                                                                 \n",
      " flatten (Flatten)           (None, 2028)              0         \n",
      "                                                                 \n",
      " dense (Dense)               (None, 10)                20290     \n",
      "                                                                 \n",
      "=================================================================\n",
      "Total params: 20,410\n",
      "Trainable params: 20,410\n",
      "Non-trainable params: 0\n",
      "_________________________________________________________________\n"
     ]
    },
    {
     "name": "stderr",
     "output_type": "stream",
     "text": [
      "2023-11-06 13:54:52.375107: I tensorflow/core/platform/cpu_feature_guard.cc:151] This TensorFlow binary is optimized with oneAPI Deep Neural Network Library (oneDNN) to use the following CPU instructions in performance-critical operations:  AVX2 FMA\n",
      "To enable them in other operations, rebuild TensorFlow with the appropriate compiler flags.\n"
     ]
    }
   ],
   "source": [
    "# Create the baseline model\n",
    "baseline_model = model_builder()\n",
    "\n",
    "# Save the initial weights for use later\n",
    "baseline_model.save_weights(FILE_WEIGHTS)\n",
    "\n",
    "# Print the model summary\n",
    "baseline_model.summary()"
   ]
  },
  {
   "cell_type": "markdown",
   "metadata": {
    "id": "74y6LJMVYRCL"
   },
   "source": [
    "You can then compile and train the model. In practice, it's best to shuffle the train set but for this demo, it is set to `False` for reproducibility of the results. One epoch below will reach around 91% accuracy."
   ]
  },
  {
   "cell_type": "code",
   "execution_count": 6,
   "metadata": {
    "id": "xViB61FuY0Pf"
   },
   "outputs": [
    {
     "name": "stdout",
     "output_type": "stream",
     "text": [
      "1875/1875 [==============================] - 8s 4ms/step - loss: 0.2697 - accuracy: 0.9242\n"
     ]
    },
    {
     "data": {
      "text/plain": [
       "<keras.callbacks.History at 0x7f9a045a58e0>"
      ]
     },
     "execution_count": 6,
     "metadata": {},
     "output_type": "execute_result"
    }
   ],
   "source": [
    "# Setup the model for training\n",
    "baseline_model.compile(optimizer='adam',\n",
    "              loss='sparse_categorical_crossentropy',\n",
    "              metrics=['accuracy'])\n",
    "\n",
    "# Train the model\n",
    "baseline_model.fit(train_images, train_labels, epochs=1, shuffle=False)"
   ]
  },
  {
   "cell_type": "markdown",
   "metadata": {
    "id": "47BgpWwOaR8b"
   },
   "source": [
    "Let's save the accuracy of the model against the test set so you can compare later."
   ]
  },
  {
   "cell_type": "code",
   "execution_count": 7,
   "metadata": {
    "id": "JQSVh1_t4Z2h"
   },
   "outputs": [
    {
     "name": "stdout",
     "output_type": "stream",
     "text": [
      "313/313 [==============================] - 1s 2ms/step - loss: 0.1392 - accuracy: 0.9577\n"
     ]
    }
   ],
   "source": [
    "# Get the baseline accuracy\n",
    "_, ACCURACY['baseline Keras model'] = baseline_model.evaluate(test_images, test_labels)"
   ]
  },
  {
   "cell_type": "markdown",
   "metadata": {
    "id": "aAfbP3uua6bE"
   },
   "source": [
    "Next, you will save the Keras model as a file and record its size as well."
   ]
  },
  {
   "cell_type": "code",
   "execution_count": 8,
   "metadata": {
    "id": "_A8WPjzqLbH3"
   },
   "outputs": [
    {
     "name": "stdout",
     "output_type": "stream",
     "text": [
      "test accuracy for baseline Keras model: 0.9577000141143799\n",
      "model size in bytes for baseline h5: 99144\n"
     ]
    }
   ],
   "source": [
    "# Save the Keras model\n",
    "baseline_model.save(FILE_NON_QUANTIZED_H5, include_optimizer=False)\n",
    "\n",
    "# Save and get the model size\n",
    "MODEL_SIZE['baseline h5'] = os.path.getsize(FILE_NON_QUANTIZED_H5)\n",
    "\n",
    "# Print records so far\n",
    "print_metric(ACCURACY, \"test accuracy\")\n",
    "print_metric(MODEL_SIZE, \"model size in bytes\")"
   ]
  },
  {
   "cell_type": "markdown",
   "metadata": {
    "id": "Ak8rBX-qX_KM"
   },
   "source": [
    "### Convert the model to TF Lite format"
   ]
  },
  {
   "cell_type": "markdown",
   "metadata": {
    "id": "PpkXpDy_OCzB"
   },
   "source": [
    "Next, you will convert the model to [Tensorflow Lite (TF Lite)](https://www.tensorflow.org/lite/guide) format. This is designed to make Tensorflow models more efficient and lightweight when running on mobile, embedded, and IOT devices.\n",
    "\n",
    "You can convert a Keras model with TF Lite's [Converter](https://www.tensorflow.org/lite/convert/index) class and we've incorporated it in the short helper function below. Notice that there is a `quantize` flag which you can use to quantize the model."
   ]
  },
  {
   "cell_type": "code",
   "execution_count": 9,
   "metadata": {
    "id": "zQYM0A0SgCNS"
   },
   "outputs": [],
   "source": [
    "def convert_tflite(model, filename, quantize=False):\n",
    "  '''\n",
    "  Converts the model to TF Lite format and writes to a file\n",
    "\n",
    "  Args:\n",
    "    model (Keras model) - model to convert to TF Lite\n",
    "    filename (string) - string to use when saving the file\n",
    "    quantize (bool) - flag to indicate quantization\n",
    "\n",
    "  Returns:\n",
    "    None\n",
    "  '''\n",
    "\n",
    "  # Initialize the converter\n",
    "  converter = tf.lite.TFLiteConverter.from_keras_model(model)\n",
    "\n",
    "  # Set for quantization if flag is set to True\n",
    "  if quantize:\n",
    "    converter.optimizations = [tf.lite.Optimize.DEFAULT]\n",
    "\n",
    "  # Convert the model\n",
    "  tflite_model = converter.convert()\n",
    "\n",
    "  # Save the model.\n",
    "  with open(filename, 'wb') as f:\n",
    "    f.write(tflite_model)"
   ]
  },
  {
   "cell_type": "markdown",
   "metadata": {
    "id": "lQkC9plnP2pU"
   },
   "source": [
    "You will use the helper function to convert the Keras model then get its size and accuracy. Take note that this is *not yet* quantized."
   ]
  },
  {
   "cell_type": "code",
   "execution_count": 10,
   "metadata": {
    "id": "5H61feiOZkcI"
   },
   "outputs": [
    {
     "name": "stderr",
     "output_type": "stream",
     "text": [
      "2023-11-06 13:55:02.738554: W tensorflow/python/util/util.cc:368] Sets are not currently considered sequences, but this may change in the future, so consider avoiding using them.\n"
     ]
    },
    {
     "name": "stdout",
     "output_type": "stream",
     "text": [
      "INFO:tensorflow:Assets written to: /var/folders/n0/xljsl5jj1kx90hb4mmgvj9l80000gn/T/tmpr43oxvf9/assets\n"
     ]
    },
    {
     "name": "stderr",
     "output_type": "stream",
     "text": [
      "2023-11-06 13:55:04.397586: W tensorflow/compiler/mlir/lite/python/tf_tfl_flatbuffer_helpers.cc:363] Ignored output_format.\n",
      "2023-11-06 13:55:04.397603: W tensorflow/compiler/mlir/lite/python/tf_tfl_flatbuffer_helpers.cc:366] Ignored drop_control_dependency.\n",
      "WARNING:absl:Buffer deduplication procedure will be skipped when flatbuffer library is not properly loaded\n",
      "2023-11-06 13:55:04.398320: I tensorflow/cc/saved_model/reader.cc:43] Reading SavedModel from: /var/folders/n0/xljsl5jj1kx90hb4mmgvj9l80000gn/T/tmpr43oxvf9\n",
      "2023-11-06 13:55:04.399842: I tensorflow/cc/saved_model/reader.cc:107] Reading meta graph with tags { serve }\n",
      "2023-11-06 13:55:04.399863: I tensorflow/cc/saved_model/reader.cc:148] Reading SavedModel debug info (if present) from: /var/folders/n0/xljsl5jj1kx90hb4mmgvj9l80000gn/T/tmpr43oxvf9\n",
      "2023-11-06 13:55:04.405977: I tensorflow/cc/saved_model/loader.cc:228] Restoring SavedModel bundle.\n",
      "2023-11-06 13:55:04.440411: I tensorflow/cc/saved_model/loader.cc:212] Running initialization op on SavedModel bundle at path: /var/folders/n0/xljsl5jj1kx90hb4mmgvj9l80000gn/T/tmpr43oxvf9\n",
      "2023-11-06 13:55:04.453286: I tensorflow/cc/saved_model/loader.cc:301] SavedModel load for tags { serve }; Status: success: OK. Took 54968 microseconds.\n",
      "2023-11-06 13:55:04.472630: I tensorflow/compiler/mlir/tensorflow/utils/dump_mlir_util.cc:237] disabling MLIR crash reproducer, set env var `MLIR_CRASH_REPRODUCER_DIRECTORY` to enable.\n"
     ]
    }
   ],
   "source": [
    "# Convert baseline model\n",
    "convert_tflite(baseline_model, FILE_NON_QUANTIZED_TFLITE)"
   ]
  },
  {
   "cell_type": "markdown",
   "metadata": {
    "id": "REf-EaQlQoYZ"
   },
   "source": [
    "You will notice that there is already a slight decrease in model size when converting to `.tflite` format."
   ]
  },
  {
   "cell_type": "code",
   "execution_count": 11,
   "metadata": {
    "id": "cmlNGwbCBo8v"
   },
   "outputs": [
    {
     "name": "stdout",
     "output_type": "stream",
     "text": [
      "model size in bytes for baseline h5: 99144\n",
      "model size in bytes for non quantized tflite: 84728\n"
     ]
    }
   ],
   "source": [
    "MODEL_SIZE['non quantized tflite'] = os.path.getsize(FILE_NON_QUANTIZED_TFLITE)\n",
    "\n",
    "print_metric(MODEL_SIZE, 'model size in bytes')"
   ]
  },
  {
   "cell_type": "markdown",
   "metadata": {
    "id": "Rp-ndoNSRnvX"
   },
   "source": [
    "The accuracy will also be nearly identical when converting between formats. You can setup a TF Lite model for input-output using its [Interpreter](https://www.tensorflow.org/api_docs/python/tf/lite/Interpreter) class. This is shown in the `evaluate_tflite_model()` helper function provided in the `Utilities` section earlier.\n",
    "\n",
    "*Note: If you see a `Runtime Error: There is at least 1 reference to internal data in the interpreter in the form of a numpy array or slice.` , please try re-running the cell.*"
   ]
  },
  {
   "cell_type": "code",
   "execution_count": 12,
   "metadata": {
    "id": "OQFkh5ukiiZE"
   },
   "outputs": [],
   "source": [
    "ACCURACY['non quantized tflite'] = evaluate_tflite_model(FILE_NON_QUANTIZED_TFLITE, test_images, test_labels)"
   ]
  },
  {
   "cell_type": "code",
   "execution_count": 13,
   "metadata": {
    "id": "CplCOws3jaB0"
   },
   "outputs": [
    {
     "name": "stdout",
     "output_type": "stream",
     "text": [
      "test accuracy for baseline Keras model: 0.9577000141143799\n",
      "test accuracy for non quantized tflite: 0.9577\n"
     ]
    }
   ],
   "source": [
    "print_metric(ACCURACY, 'test accuracy')"
   ]
  },
  {
   "cell_type": "markdown",
   "metadata": {
    "id": "N6ilHiSGYCFL"
   },
   "source": [
    "### Post-Training Quantization\n",
    "\n",
    "Now that you have the baseline metrics, you can now observe the effects of quantization. As mentioned in the lectures, this process involves converting floating point representations into integer to reduce model size and achieve faster computation.\n",
    "\n",
    "As shown in the `convert_tflite()` helper function earlier, you can easily do [post-training quantization](https://www.tensorflow.org/lite/performance/post_training_quantization) with the TF Lite API. You just need to set the converter optimization and assign an [Optimize](https://www.tensorflow.org/api_docs/python/tf/lite/Optimize) Enum.\n",
    "\n",
    "You will set the `quantize` flag to do that and get the metrics again."
   ]
  },
  {
   "cell_type": "code",
   "execution_count": 14,
   "metadata": {
    "id": "DdWNTJ2J1OpL"
   },
   "outputs": [
    {
     "name": "stdout",
     "output_type": "stream",
     "text": [
      "INFO:tensorflow:Assets written to: /var/folders/n0/xljsl5jj1kx90hb4mmgvj9l80000gn/T/tmpwzkd0njq/assets\n"
     ]
    },
    {
     "name": "stderr",
     "output_type": "stream",
     "text": [
      "INFO:tensorflow:Assets written to: /var/folders/n0/xljsl5jj1kx90hb4mmgvj9l80000gn/T/tmpwzkd0njq/assets\n",
      "2023-11-06 13:55:07.295757: W tensorflow/compiler/mlir/lite/python/tf_tfl_flatbuffer_helpers.cc:363] Ignored output_format.\n",
      "2023-11-06 13:55:07.295777: W tensorflow/compiler/mlir/lite/python/tf_tfl_flatbuffer_helpers.cc:366] Ignored drop_control_dependency.\n",
      "WARNING:absl:Buffer deduplication procedure will be skipped when flatbuffer library is not properly loaded\n",
      "2023-11-06 13:55:07.295917: I tensorflow/cc/saved_model/reader.cc:43] Reading SavedModel from: /var/folders/n0/xljsl5jj1kx90hb4mmgvj9l80000gn/T/tmpwzkd0njq\n",
      "2023-11-06 13:55:07.297350: I tensorflow/cc/saved_model/reader.cc:107] Reading meta graph with tags { serve }\n",
      "2023-11-06 13:55:07.297364: I tensorflow/cc/saved_model/reader.cc:148] Reading SavedModel debug info (if present) from: /var/folders/n0/xljsl5jj1kx90hb4mmgvj9l80000gn/T/tmpwzkd0njq\n",
      "2023-11-06 13:55:07.303980: I tensorflow/cc/saved_model/loader.cc:228] Restoring SavedModel bundle.\n",
      "2023-11-06 13:55:07.341043: I tensorflow/cc/saved_model/loader.cc:212] Running initialization op on SavedModel bundle at path: /var/folders/n0/xljsl5jj1kx90hb4mmgvj9l80000gn/T/tmpwzkd0njq\n",
      "2023-11-06 13:55:07.354399: I tensorflow/cc/saved_model/loader.cc:301] SavedModel load for tags { serve }; Status: success: OK. Took 58483 microseconds.\n",
      "2023-11-06 13:55:07.406842: I tensorflow/lite/tools/optimize/quantize_weights.cc:225] Skipping quantization of tensor sequential/conv2d/Conv2D because it has fewer than 1024 elements (108).\n"
     ]
    }
   ],
   "source": [
    "# Convert and quantize the baseline model\n",
    "convert_tflite(baseline_model, FILE_PT_QUANTIZED, quantize=True)"
   ]
  },
  {
   "cell_type": "code",
   "execution_count": 15,
   "metadata": {
    "id": "cTFHf4Rw1bCJ"
   },
   "outputs": [
    {
     "name": "stdout",
     "output_type": "stream",
     "text": [
      "model size for baseline h5: 99144\n",
      "model size for non quantized tflite: 84728\n",
      "model size for post training quantized tflite: 24112\n"
     ]
    }
   ],
   "source": [
    "# Get the model size\n",
    "MODEL_SIZE['post training quantized tflite'] = os.path.getsize(FILE_PT_QUANTIZED)\n",
    "\n",
    "print_metric(MODEL_SIZE, 'model size')"
   ]
  },
  {
   "cell_type": "markdown",
   "metadata": {
    "id": "SYcBZduWVqOH"
   },
   "source": [
    "You should see around a 4X reduction in model size in the quantized version. This comes from converting the 32 bit representations (float) into 8 bits (integer).\n",
    "\n"
   ]
  },
  {
   "cell_type": "code",
   "execution_count": 16,
   "metadata": {
    "id": "vhEYoQ83-pT_"
   },
   "outputs": [],
   "source": [
    "ACCURACY['post training quantized tflite'] = evaluate_tflite_model(FILE_PT_QUANTIZED, test_images, test_labels)"
   ]
  },
  {
   "cell_type": "code",
   "execution_count": 17,
   "metadata": {
    "id": "4D0Srsjb_inn"
   },
   "outputs": [
    {
     "name": "stdout",
     "output_type": "stream",
     "text": [
      "test accuracy for baseline Keras model: 0.9577000141143799\n",
      "test accuracy for non quantized tflite: 0.9577\n",
      "test accuracy for post training quantized tflite: 0.9579\n"
     ]
    }
   ],
   "source": [
    "print_metric(ACCURACY, 'test accuracy')"
   ]
  },
  {
   "cell_type": "markdown",
   "metadata": {
    "id": "rGTzSOuQWG4L"
   },
   "source": [
    "As mentioned in the lecture, you can expect the accuracy to not be the same when quantizing the model. Most of the time it will decrease but in some cases, it can even increase. Again, this can be attributed to the loss of precision when you remove the extra bits from the float data."
   ]
  },
  {
   "cell_type": "markdown",
   "metadata": {
    "id": "vFf1DDVnYIes"
   },
   "source": [
    "## Quantization Aware Training"
   ]
  },
  {
   "cell_type": "markdown",
   "metadata": {
    "id": "37oAb7PuXK36"
   },
   "source": [
    "When post-training quantization results in loss of accuracy that is unacceptable for your application, you can consider doing [quantization aware training](https://www.tensorflow.org/model_optimization/guide/quantization/training) before quantizing the model. This simulates the loss of precision by inserting fake quant nodes in the model during training. That way, your model will learn to adapt with the loss of precision to get more accurate predictions.\n",
    "\n",
    "The [Tensorflow Model Optimization Toolkit](https://www.tensorflow.org/model_optimization) provides a [quantize_model()](https://www.tensorflow.org/model_optimization/api_docs/python/tfmot/quantization/keras/quantize_model) method to do this quickly and you will see that below. But first, let's install the toolkit into the notebook environment."
   ]
  },
  {
   "cell_type": "code",
   "execution_count": 18,
   "metadata": {
    "id": "6WSt6OQGoNAt"
   },
   "outputs": [
    {
     "name": "stdout",
     "output_type": "stream",
     "text": [
      "Collecting tensorflow_model_optimization\n",
      "  Downloading tensorflow_model_optimization-0.7.5-py2.py3-none-any.whl (241 kB)\n",
      "\u001b[2K     \u001b[38;2;114;156;31m━━━━━━━━━━━━━━━━━━━━━━━━━━━━━━━━━━━━━━━\u001b[0m \u001b[32m241.2/241.2 KB\u001b[0m \u001b[31m3.7 MB/s\u001b[0m eta \u001b[36m0:00:00\u001b[0m[31m4.4 MB/s\u001b[0m eta \u001b[36m0:00:01\u001b[0m\n",
      "\u001b[?25hCollecting absl-py~=1.2\n",
      "  Using cached absl_py-1.4.0-py3-none-any.whl (126 kB)\n",
      "Requirement already satisfied: dm-tree~=0.1.1 in /Users/jaskanwal/opt/anaconda3/envs/tf2/lib/python3.8/site-packages (from tensorflow_model_optimization) (0.1.6)\n",
      "Requirement already satisfied: six~=1.14 in /Users/jaskanwal/opt/anaconda3/envs/tf2/lib/python3.8/site-packages (from tensorflow_model_optimization) (1.15.0)\n",
      "Collecting numpy~=1.23\n",
      "  Downloading numpy-1.24.4-cp38-cp38-macosx_10_9_x86_64.whl (19.8 MB)\n",
      "\u001b[2K     \u001b[38;2;114;156;31m━━━━━━━━━━━━━━━━━━━━━━━━━━━━━━━━━━━━━━━━\u001b[0m \u001b[32m19.8/19.8 MB\u001b[0m \u001b[31m39.6 MB/s\u001b[0m eta \u001b[36m0:00:00\u001b[0mm eta \u001b[36m0:00:01\u001b[0m0:01\u001b[0m:01\u001b[0m\n",
      "\u001b[?25hInstalling collected packages: numpy, absl-py, tensorflow_model_optimization\n",
      "  Attempting uninstall: numpy\n",
      "    Found existing installation: numpy 1.19.5\n",
      "    Uninstalling numpy-1.19.5:\n",
      "      Successfully uninstalled numpy-1.19.5\n",
      "  Attempting uninstall: absl-py\n",
      "    Found existing installation: absl-py 1.0.0\n",
      "    Uninstalling absl-py-1.0.0:\n",
      "      Successfully uninstalled absl-py-1.0.0\n",
      "\u001b[31mERROR: pip's dependency resolver does not currently take into account all the packages that are installed. This behaviour is the source of the following dependency conflicts.\n",
      "scipy 1.7.3 requires numpy<1.23.0,>=1.16.5, but you have numpy 1.24.4 which is incompatible.\u001b[0m\u001b[31m\n",
      "\u001b[0mSuccessfully installed absl-py-1.4.0 numpy-1.24.4 tensorflow_model_optimization-0.7.5\n"
     ]
    }
   ],
   "source": [
    "# Install the toolkit\n",
    "!pip install tensorflow_model_optimization"
   ]
  },
  {
   "cell_type": "markdown",
   "metadata": {
    "id": "oYHmeMihYjnB"
   },
   "source": [
    "You will build the baseline model again but this time, you will pass it into the `quantize_model()` method to indicate quantization aware training.\n",
    "\n",
    "Take note that in case you decide to pass in a model that is already trained, then make sure to recompile before you continue training."
   ]
  },
  {
   "cell_type": "code",
   "execution_count": 19,
   "metadata": {
    "id": "3dGSpz0on2C4"
   },
   "outputs": [
    {
     "name": "stdout",
     "output_type": "stream",
     "text": [
      "Model: \"sequential_1\"\n",
      "_________________________________________________________________\n",
      " Layer (type)                Output Shape              Param #   \n",
      "=================================================================\n",
      " quantize_layer (QuantizeLay  (None, 28, 28)           3         \n",
      " er)                                                             \n",
      "                                                                 \n",
      " quant_reshape_1 (QuantizeWr  (None, 28, 28, 1)        1         \n",
      " apperV2)                                                        \n",
      "                                                                 \n",
      " quant_conv2d_1 (QuantizeWra  (None, 26, 26, 12)       147       \n",
      " pperV2)                                                         \n",
      "                                                                 \n",
      " quant_max_pooling2d_1 (Quan  (None, 13, 13, 12)       1         \n",
      " tizeWrapperV2)                                                  \n",
      "                                                                 \n",
      " quant_flatten_1 (QuantizeWr  (None, 2028)             1         \n",
      " apperV2)                                                        \n",
      "                                                                 \n",
      " quant_dense_1 (QuantizeWrap  (None, 10)               20295     \n",
      " perV2)                                                          \n",
      "                                                                 \n",
      "=================================================================\n",
      "Total params: 20,448\n",
      "Trainable params: 20,410\n",
      "Non-trainable params: 38\n",
      "_________________________________________________________________\n"
     ]
    }
   ],
   "source": [
    "import tensorflow_model_optimization as tfmot\n",
    "\n",
    "# method to quantize a Keras model\n",
    "quantize_model = tfmot.quantization.keras.quantize_model\n",
    "\n",
    "# Define the model architecture.\n",
    "model_to_quantize = model_builder()\n",
    "\n",
    "# Reinitialize weights with saved file\n",
    "model_to_quantize.load_weights(FILE_WEIGHTS)\n",
    "\n",
    "# Quantize the model\n",
    "q_aware_model = quantize_model(model_to_quantize)\n",
    "\n",
    "# `quantize_model` requires a recompile.\n",
    "q_aware_model.compile(optimizer='adam',\n",
    "              loss='sparse_categorical_crossentropy',\n",
    "              metrics=['accuracy'])\n",
    "\n",
    "q_aware_model.summary()"
   ]
  },
  {
   "cell_type": "markdown",
   "metadata": {
    "id": "lmcaLaotZ7G7"
   },
   "source": [
    "You may have noticed a slight difference in the model summary above compared to the baseline model summary in the earlier sections. The total params count increased as expected because of the nodes added by the `quantize_model()` method.\n",
    "\n",
    "With that, you can now train the model. You will notice that the accuracy is a bit lower because the model is simulating the loss of precision. The training will take a bit longer if you want to achieve the same training accuracy as the earlier run. For this exercise though, we will keep to 1 epoch."
   ]
  },
  {
   "cell_type": "code",
   "execution_count": 20,
   "metadata": {
    "id": "yl4jbjllomDw"
   },
   "outputs": [
    {
     "name": "stdout",
     "output_type": "stream",
     "text": [
      "1875/1875 [==============================] - 10s 5ms/step - loss: 0.2692 - accuracy: 0.9245\n"
     ]
    },
    {
     "data": {
      "text/plain": [
       "<keras.callbacks.History at 0x7f99fbbdcf70>"
      ]
     },
     "execution_count": 20,
     "metadata": {},
     "output_type": "execute_result"
    }
   ],
   "source": [
    "# Train the model\n",
    "q_aware_model.fit(train_images, train_labels, epochs=1, shuffle=False)"
   ]
  },
  {
   "cell_type": "markdown",
   "metadata": {
    "id": "b_WAM2C4bWeC"
   },
   "source": [
    "You can then get the accuracy of the Keras model before and after quantizing the model. The accuracy is expected to be nearly identical because the model is trained to counter the effects of quantization."
   ]
  },
  {
   "cell_type": "code",
   "execution_count": 21,
   "metadata": {
    "id": "J7rOuwM_ozI_"
   },
   "outputs": [
    {
     "name": "stdout",
     "output_type": "stream",
     "text": [
      "test accuracy for quantization aware non-quantized: 0.9581999778747559\n"
     ]
    }
   ],
   "source": [
    "# Reinitialize the dictionary\n",
    "ACCURACY = {}\n",
    "\n",
    "# Get the accuracy of the quantization aware trained model (not yet quantized)\n",
    "_, ACCURACY['quantization aware non-quantized'] = q_aware_model.evaluate(test_images, test_labels, verbose=0)\n",
    "print_metric(ACCURACY, 'test accuracy')"
   ]
  },
  {
   "cell_type": "code",
   "execution_count": 22,
   "metadata": {
    "id": "6liE_Cp3rzAy"
   },
   "outputs": [
    {
     "name": "stderr",
     "output_type": "stream",
     "text": [
      "WARNING:absl:Found untraced functions such as reshape_1_layer_call_fn, reshape_1_layer_call_and_return_conditional_losses, conv2d_1_layer_call_fn, conv2d_1_layer_call_and_return_conditional_losses, flatten_1_layer_call_fn while saving (showing 5 of 20). These functions will not be directly callable after loading.\n"
     ]
    },
    {
     "name": "stdout",
     "output_type": "stream",
     "text": [
      "INFO:tensorflow:Assets written to: /var/folders/n0/xljsl5jj1kx90hb4mmgvj9l80000gn/T/tmpjrv3f9k5/assets\n"
     ]
    },
    {
     "name": "stderr",
     "output_type": "stream",
     "text": [
      "INFO:tensorflow:Assets written to: /var/folders/n0/xljsl5jj1kx90hb4mmgvj9l80000gn/T/tmpjrv3f9k5/assets\n",
      "2023-11-06 13:55:33.761186: W tensorflow/compiler/mlir/lite/python/tf_tfl_flatbuffer_helpers.cc:363] Ignored output_format.\n",
      "2023-11-06 13:55:33.761216: W tensorflow/compiler/mlir/lite/python/tf_tfl_flatbuffer_helpers.cc:366] Ignored drop_control_dependency.\n",
      "WARNING:absl:Buffer deduplication procedure will be skipped when flatbuffer library is not properly loaded\n",
      "2023-11-06 13:55:33.761354: I tensorflow/cc/saved_model/reader.cc:43] Reading SavedModel from: /var/folders/n0/xljsl5jj1kx90hb4mmgvj9l80000gn/T/tmpjrv3f9k5\n",
      "2023-11-06 13:55:33.764436: I tensorflow/cc/saved_model/reader.cc:107] Reading meta graph with tags { serve }\n",
      "2023-11-06 13:55:33.764450: I tensorflow/cc/saved_model/reader.cc:148] Reading SavedModel debug info (if present) from: /var/folders/n0/xljsl5jj1kx90hb4mmgvj9l80000gn/T/tmpjrv3f9k5\n",
      "2023-11-06 13:55:33.778137: I tensorflow/cc/saved_model/loader.cc:228] Restoring SavedModel bundle.\n",
      "2023-11-06 13:55:33.836296: I tensorflow/cc/saved_model/loader.cc:212] Running initialization op on SavedModel bundle at path: /var/folders/n0/xljsl5jj1kx90hb4mmgvj9l80000gn/T/tmpjrv3f9k5\n",
      "2023-11-06 13:55:33.860359: I tensorflow/cc/saved_model/loader.cc:301] SavedModel load for tags { serve }; Status: success: OK. Took 99006 microseconds.\n"
     ]
    },
    {
     "name": "stdout",
     "output_type": "stream",
     "text": [
      "test accuracy for quantization aware non-quantized: 0.9581999778747559\n",
      "test accuracy for quantization aware quantized: 0.9582\n"
     ]
    }
   ],
   "source": [
    "# Convert and quantize the model.\n",
    "convert_tflite(q_aware_model, FILE_QAT_QUANTIZED, quantize=True)\n",
    "\n",
    "# Get the accuracy of the quantized model\n",
    "ACCURACY['quantization aware quantized'] = evaluate_tflite_model(FILE_QAT_QUANTIZED, test_images, test_labels)\n",
    "print_metric(ACCURACY, 'test accuracy')"
   ]
  },
  {
   "cell_type": "markdown",
   "metadata": {
    "id": "SwvaMflTYNgo"
   },
   "source": [
    "## Pruning\n",
    "\n",
    "Let's now move on to another technique for reducing model size: [Pruning](https://www.tensorflow.org/model_optimization/guide/pruning/pruning_with_keras). This process involves zeroing out insignificant (i.e. low magnitude) weights. The intuition is these weights do not contribute as much to making predictions so you can remove them and get the same result. Making the weights sparse helps in compressing the model more efficiently and you will see that in this section."
   ]
  },
  {
   "cell_type": "markdown",
   "metadata": {
    "id": "LdlFujrJbzV7"
   },
   "source": [
    "The Tensorflow Model Optimization Toolkit again has a convenience method for this. The [prune_low_magnitude()](https://www.tensorflow.org/model_optimization/api_docs/python/tfmot/sparsity/keras/prune_low_magnitude) method puts wrappers in a Keras model so it can be pruned during training. You will pass in the baseline model that you already trained earlier. You will notice that the model summary show increased params because of the wrapper layers added by the pruning method.\n",
    "\n",
    "You can set how the pruning is done during training. Below, you will use [PolynomialDecay](https://www.tensorflow.org/model_optimization/api_docs/python/tfmot/sparsity/keras/PolynomialDecay) to indicate how the sparsity ramps up with each step. Another option available in the library is [Constant Sparsity](https://www.tensorflow.org/model_optimization/api_docs/python/tfmot/sparsity/keras/ConstantSparsity)."
   ]
  },
  {
   "cell_type": "code",
   "execution_count": 23,
   "metadata": {
    "id": "TpqizJsKYPBA"
   },
   "outputs": [
    {
     "name": "stdout",
     "output_type": "stream",
     "text": [
      "Model: \"sequential\"\n",
      "_________________________________________________________________\n",
      " Layer (type)                Output Shape              Param #   \n",
      "=================================================================\n",
      " prune_low_magnitude_reshape  (None, 28, 28, 1)        1         \n",
      "  (PruneLowMagnitude)                                            \n",
      "                                                                 \n",
      " prune_low_magnitude_conv2d   (None, 26, 26, 12)       230       \n",
      " (PruneLowMagnitude)                                             \n",
      "                                                                 \n",
      " prune_low_magnitude_max_poo  (None, 13, 13, 12)       1         \n",
      " ling2d (PruneLowMagnitude)                                      \n",
      "                                                                 \n",
      " prune_low_magnitude_flatten  (None, 2028)             1         \n",
      "  (PruneLowMagnitude)                                            \n",
      "                                                                 \n",
      " prune_low_magnitude_dense (  (None, 10)               40572     \n",
      " PruneLowMagnitude)                                              \n",
      "                                                                 \n",
      "=================================================================\n",
      "Total params: 40,805\n",
      "Trainable params: 20,410\n",
      "Non-trainable params: 20,395\n",
      "_________________________________________________________________\n"
     ]
    }
   ],
   "source": [
    "# Get the pruning method\n",
    "prune_low_magnitude = tfmot.sparsity.keras.prune_low_magnitude\n",
    "\n",
    "# Compute end step to finish pruning after 2 epochs.\n",
    "batch_size = 128\n",
    "epochs = 2\n",
    "validation_split = 0.1 # 10% of training set will be used for validation set.\n",
    "\n",
    "num_images = train_images.shape[0] * (1 - validation_split)\n",
    "end_step = np.ceil(num_images / batch_size).astype(np.int32) * epochs\n",
    "\n",
    "# Define pruning schedule.\n",
    "pruning_params = {\n",
    "      'pruning_schedule': tfmot.sparsity.keras.PolynomialDecay(initial_sparsity=0.50,\n",
    "                                                               final_sparsity=0.80,\n",
    "                                                               begin_step=0,\n",
    "                                                               end_step=end_step)\n",
    "}\n",
    "\n",
    "# Pass in the trained baseline model\n",
    "model_for_pruning = prune_low_magnitude(baseline_model, **pruning_params)\n",
    "\n",
    "# `prune_low_magnitude` requires a recompile.\n",
    "model_for_pruning.compile(optimizer='adam',\n",
    "              loss='sparse_categorical_crossentropy',\n",
    "              metrics=['accuracy'])\n",
    "\n",
    "model_for_pruning.summary()"
   ]
  },
  {
   "cell_type": "markdown",
   "metadata": {
    "id": "qgmHaZI6fip_"
   },
   "source": [
    "You can also peek at the weights of one of the layers in your model. After pruning, you will notice that many of these will be zeroed out."
   ]
  },
  {
   "cell_type": "code",
   "execution_count": 24,
   "metadata": {
    "id": "y5ekdEBigB5l"
   },
   "outputs": [
    {
     "data": {
      "text/plain": [
       "<tf.Variable 'conv2d/kernel:0' shape=(3, 3, 1, 12) dtype=float32, numpy=\n",
       "array([[[[ 0.05844156,  0.03397017, -0.5527266 , -0.2930772 ,\n",
       "          -0.6735679 ,  0.23606224,  0.23554555, -0.3213934 ,\n",
       "           0.2838145 ,  0.20606676,  0.22287297, -0.5319133 ]],\n",
       "\n",
       "        [[ 0.17669055,  0.47118163,  0.02568364,  0.04835071,\n",
       "          -0.54090196,  0.16479866, -0.14072903, -0.64355344,\n",
       "           0.09158189,  0.01323728,  0.23239669, -0.15040678]],\n",
       "\n",
       "        [[ 0.23180187,  0.53155285,  0.45329857,  0.32075238,\n",
       "          -0.54216325, -0.18353966,  0.06264985, -0.57451004,\n",
       "          -0.16375834, -0.06152859,  0.03429842,  0.51378775]]],\n",
       "\n",
       "\n",
       "       [[[-0.17239833,  0.06093876, -0.6944767 ,  0.20755817,\n",
       "          -0.31909138,  0.23423713,  0.11398407,  0.33646446,\n",
       "           0.05062647,  0.22703648, -0.235525  , -0.39413118]],\n",
       "\n",
       "        [[ 0.21282978,  0.18034495,  0.29713425,  0.02395421,\n",
       "          -0.08926842,  0.16281952, -0.07135248,  0.33564368,\n",
       "           0.14805594,  0.20905077,  0.08029012, -0.19192068]],\n",
       "\n",
       "        [[-0.05265965,  0.27775532,  0.3241598 ,  0.18794   ,\n",
       "           0.01443775,  0.18542746, -0.0566036 ,  0.14240965,\n",
       "          -0.20633435,  0.12355873,  0.27863145,  0.5513548 ]]],\n",
       "\n",
       "\n",
       "       [[[ 0.17396553, -0.86338484, -0.4505915 ,  0.2632811 ,\n",
       "           0.1070014 ,  0.25013983,  0.2935537 ,  0.2743968 ,\n",
       "           0.19854496, -0.13099588, -0.27215597, -0.5399362 ]],\n",
       "\n",
       "        [[ 0.31641036, -0.76173466,  0.03369594,  0.10160278,\n",
       "           0.48530507, -0.03863771,  0.27366626,  0.25896475,\n",
       "           0.26745263,  0.25337365,  0.03695948,  0.02025163]],\n",
       "\n",
       "        [[ 0.14739227, -0.50427234,  0.34663236,  0.10383175,\n",
       "           0.53766996, -0.00950763, -0.12213209,  0.13480967,\n",
       "           0.23067284,  0.21498342,  0.18305294,  0.40163386]]]],\n",
       "      dtype=float32)>"
      ]
     },
     "execution_count": 24,
     "metadata": {},
     "output_type": "execute_result"
    }
   ],
   "source": [
    "# Preview model weights\n",
    "model_for_pruning.weights[1]"
   ]
  },
  {
   "cell_type": "markdown",
   "metadata": {
    "id": "0XFwMRqpgbr0"
   },
   "source": [
    "With that, you can now start re-training the model. Take note that the [UpdatePruningStep()](https://www.tensorflow.org/model_optimization/api_docs/python/tfmot/sparsity/keras/UpdatePruningStep) callback is required."
   ]
  },
  {
   "cell_type": "code",
   "execution_count": 25,
   "metadata": {
    "id": "DUCz6PL371Bx"
   },
   "outputs": [
    {
     "name": "stdout",
     "output_type": "stream",
     "text": [
      "Epoch 1/2\n",
      "1688/1688 [==============================] - 9s 4ms/step - loss: 0.1599 - accuracy: 0.9582 - val_loss: 0.1049 - val_accuracy: 0.9730\n",
      "Epoch 2/2\n",
      "1688/1688 [==============================] - 7s 4ms/step - loss: 0.1193 - accuracy: 0.9653 - val_loss: 0.0963 - val_accuracy: 0.9753\n"
     ]
    },
    {
     "data": {
      "text/plain": [
       "<keras.callbacks.History at 0x7f99fc5e2970>"
      ]
     },
     "execution_count": 25,
     "metadata": {},
     "output_type": "execute_result"
    }
   ],
   "source": [
    "# Callback to update pruning wrappers at each step\n",
    "callbacks = [\n",
    "  tfmot.sparsity.keras.UpdatePruningStep(),\n",
    "]\n",
    "\n",
    "# Train and prune the model\n",
    "model_for_pruning.fit(train_images, train_labels,\n",
    "                  epochs=epochs, validation_split=validation_split,\n",
    "                  callbacks=callbacks)"
   ]
  },
  {
   "cell_type": "markdown",
   "metadata": {
    "id": "rEExgy4hhXP-"
   },
   "source": [
    "Now see how the weights in the same layer looks like after pruning."
   ]
  },
  {
   "cell_type": "code",
   "execution_count": 26,
   "metadata": {
    "id": "TOK4TidJhXpT"
   },
   "outputs": [
    {
     "data": {
      "text/plain": [
       "<tf.Variable 'conv2d/kernel:0' shape=(3, 3, 1, 12) dtype=float32, numpy=\n",
       "array([[[[ 0.        ,  0.        , -1.0072023 ,  0.        ,\n",
       "          -1.3944564 ,  0.        ,  0.        ,  0.        ,\n",
       "          -0.        ,  0.        ,  0.        , -0.917195  ]],\n",
       "\n",
       "        [[ 0.        ,  0.9670014 ,  0.        ,  0.        ,\n",
       "          -1.0123551 ,  0.        ,  0.        , -0.8564585 ,\n",
       "           0.        ,  0.        ,  0.        ,  0.        ]],\n",
       "\n",
       "        [[ 0.        ,  0.87393236,  0.9213791 ,  0.        ,\n",
       "          -0.92167723, -0.        , -0.        , -0.        ,\n",
       "          -0.        ,  0.        ,  0.        ,  0.77509177]]],\n",
       "\n",
       "\n",
       "       [[[ 0.        ,  0.        , -0.78168267,  0.        ,\n",
       "           0.        ,  0.        ,  0.        ,  0.        ,\n",
       "          -0.        ,  0.        ,  0.        , -0.82702357]],\n",
       "\n",
       "        [[ 0.        ,  0.        ,  0.        ,  0.        ,\n",
       "           0.        ,  0.        ,  0.        ,  0.8599229 ,\n",
       "           0.        ,  0.        ,  0.        ,  0.        ]],\n",
       "\n",
       "        [[ 0.        , -0.        ,  0.        ,  0.        ,\n",
       "           0.        , -0.        , -0.        ,  0.        ,\n",
       "           0.        ,  0.        ,  0.        ,  0.89070934]]],\n",
       "\n",
       "\n",
       "       [[[ 0.        , -1.2367699 , -0.        ,  0.        ,\n",
       "           0.        ,  0.8568305 ,  0.8301796 ,  0.        ,\n",
       "          -0.        ,  0.        ,  0.        ,  0.        ]],\n",
       "\n",
       "        [[ 0.8279794 , -1.3165869 , -0.        ,  0.        ,\n",
       "           0.82473433, -0.        ,  0.        ,  0.        ,\n",
       "           0.8822507 ,  0.        ,  0.        ,  0.        ]],\n",
       "\n",
       "        [[ 0.        , -0.        ,  0.        ,  0.        ,\n",
       "           0.8489277 , -0.        , -0.        ,  0.        ,\n",
       "           0.        ,  0.        ,  0.        ,  0.        ]]]],\n",
       "      dtype=float32)>"
      ]
     },
     "execution_count": 26,
     "metadata": {},
     "output_type": "execute_result"
    }
   ],
   "source": [
    "# Preview model weights\n",
    "model_for_pruning.weights[1]"
   ]
  },
  {
   "cell_type": "markdown",
   "metadata": {
    "id": "o5ckfDHLhhub"
   },
   "source": [
    "After pruning, you can remove the wrapper layers to have the same layers and params as the baseline model. You can do that with the [strip_pruning()](https://www.tensorflow.org/model_optimization/api_docs/python/tfmot/sparsity/keras/strip_pruning) method as shown below. You will do this so you can save the model and also export to TF Lite format just like in the previous sections."
   ]
  },
  {
   "cell_type": "code",
   "execution_count": 27,
   "metadata": {
    "id": "PbfLhZv68vwc"
   },
   "outputs": [
    {
     "name": "stdout",
     "output_type": "stream",
     "text": [
      "Model: \"sequential\"\n",
      "_________________________________________________________________\n",
      " Layer (type)                Output Shape              Param #   \n",
      "=================================================================\n",
      " reshape (Reshape)           (None, 28, 28, 1)         0         \n",
      "                                                                 \n",
      " conv2d (Conv2D)             (None, 26, 26, 12)        120       \n",
      "                                                                 \n",
      " max_pooling2d (MaxPooling2D  (None, 13, 13, 12)       0         \n",
      " )                                                               \n",
      "                                                                 \n",
      " flatten (Flatten)           (None, 2028)              0         \n",
      "                                                                 \n",
      " dense (Dense)               (None, 10)                20290     \n",
      "                                                                 \n",
      "=================================================================\n",
      "Total params: 20,410\n",
      "Trainable params: 20,410\n",
      "Non-trainable params: 0\n",
      "_________________________________________________________________\n"
     ]
    }
   ],
   "source": [
    "# Remove pruning wrappers\n",
    "model_for_export = tfmot.sparsity.keras.strip_pruning(model_for_pruning)\n",
    "model_for_export.summary()"
   ]
  },
  {
   "cell_type": "markdown",
   "metadata": {
    "id": "KtbPlo-kj9Ku"
   },
   "source": [
    "You will see the same model weights but the index is different because the wrappers were removed."
   ]
  },
  {
   "cell_type": "code",
   "execution_count": 28,
   "metadata": {
    "id": "SG6-aF9yiraG"
   },
   "outputs": [
    {
     "data": {
      "text/plain": [
       "<tf.Variable 'conv2d/kernel:0' shape=(3, 3, 1, 12) dtype=float32, numpy=\n",
       "array([[[[ 0.        ,  0.        , -1.0072023 ,  0.        ,\n",
       "          -1.3944564 ,  0.        ,  0.        ,  0.        ,\n",
       "          -0.        ,  0.        ,  0.        , -0.917195  ]],\n",
       "\n",
       "        [[ 0.        ,  0.9670014 ,  0.        ,  0.        ,\n",
       "          -1.0123551 ,  0.        ,  0.        , -0.8564585 ,\n",
       "           0.        ,  0.        ,  0.        ,  0.        ]],\n",
       "\n",
       "        [[ 0.        ,  0.87393236,  0.9213791 ,  0.        ,\n",
       "          -0.92167723, -0.        , -0.        , -0.        ,\n",
       "          -0.        ,  0.        ,  0.        ,  0.77509177]]],\n",
       "\n",
       "\n",
       "       [[[ 0.        ,  0.        , -0.78168267,  0.        ,\n",
       "           0.        ,  0.        ,  0.        ,  0.        ,\n",
       "          -0.        ,  0.        ,  0.        , -0.82702357]],\n",
       "\n",
       "        [[ 0.        ,  0.        ,  0.        ,  0.        ,\n",
       "           0.        ,  0.        ,  0.        ,  0.8599229 ,\n",
       "           0.        ,  0.        ,  0.        ,  0.        ]],\n",
       "\n",
       "        [[ 0.        , -0.        ,  0.        ,  0.        ,\n",
       "           0.        , -0.        , -0.        ,  0.        ,\n",
       "           0.        ,  0.        ,  0.        ,  0.89070934]]],\n",
       "\n",
       "\n",
       "       [[[ 0.        , -1.2367699 , -0.        ,  0.        ,\n",
       "           0.        ,  0.8568305 ,  0.8301796 ,  0.        ,\n",
       "          -0.        ,  0.        ,  0.        ,  0.        ]],\n",
       "\n",
       "        [[ 0.8279794 , -1.3165869 , -0.        ,  0.        ,\n",
       "           0.82473433, -0.        ,  0.        ,  0.        ,\n",
       "           0.8822507 ,  0.        ,  0.        ,  0.        ]],\n",
       "\n",
       "        [[ 0.        , -0.        ,  0.        ,  0.        ,\n",
       "           0.8489277 , -0.        , -0.        ,  0.        ,\n",
       "           0.        ,  0.        ,  0.        ,  0.        ]]]],\n",
       "      dtype=float32)>"
      ]
     },
     "execution_count": 28,
     "metadata": {},
     "output_type": "execute_result"
    }
   ],
   "source": [
    "# Preview model weights (index 1 earlier is now 0 because pruning wrappers were removed)\n",
    "model_for_export.weights[0]"
   ]
  },
  {
   "cell_type": "markdown",
   "metadata": {
    "id": "ZR94MYxLkHfn"
   },
   "source": [
    "You will notice below that the pruned model will have the same file size as the baseline_model when saved as H5. This is to be expected. The improvement will be noticeable when you compress the model as will be shown in the cell after this."
   ]
  },
  {
   "cell_type": "code",
   "execution_count": 29,
   "metadata": {
    "id": "CjjDMqJCTjqz"
   },
   "outputs": [
    {
     "name": "stdout",
     "output_type": "stream",
     "text": [
      "WARNING:tensorflow:Compiled the loaded model, but the compiled metrics have yet to be built. `model.compile_metrics` will be empty until you train or evaluate the model.\n"
     ]
    },
    {
     "name": "stderr",
     "output_type": "stream",
     "text": [
      "WARNING:tensorflow:Compiled the loaded model, but the compiled metrics have yet to be built. `model.compile_metrics` will be empty until you train or evaluate the model.\n"
     ]
    },
    {
     "name": "stdout",
     "output_type": "stream",
     "text": [
      "model_size in bytes for baseline h5: 99144\n",
      "model_size in bytes for pruned non quantized h5: 99144\n"
     ]
    }
   ],
   "source": [
    "# Save Keras model\n",
    "model_for_export.save(FILE_PRUNED_MODEL_H5, include_optimizer=False)\n",
    "\n",
    "# Get uncompressed model size of baseline and pruned models\n",
    "MODEL_SIZE = {}\n",
    "MODEL_SIZE['baseline h5'] = os.path.getsize(FILE_NON_QUANTIZED_H5)\n",
    "MODEL_SIZE['pruned non quantized h5'] = os.path.getsize(FILE_PRUNED_MODEL_H5)\n",
    "\n",
    "print_metric(MODEL_SIZE, 'model_size in bytes')"
   ]
  },
  {
   "cell_type": "markdown",
   "metadata": {
    "id": "tCEfa-LRleT_"
   },
   "source": [
    "You will use the `get_gzipped_model_size()` helper function in the `Utilities` to compress the models and get its resulting file size. You will notice that the pruned model is about 3 times smaller. This is because of the sparse weights generated by the pruning process. The zeros can be compressed much more efficiently than the low magnitude weights before pruning."
   ]
  },
  {
   "cell_type": "code",
   "execution_count": 30,
   "metadata": {
    "id": "VWQ_AgiX_yiP"
   },
   "outputs": [
    {
     "name": "stdout",
     "output_type": "stream",
     "text": [
      "gzipped model size in bytes for baseline h5: 78032\n",
      "gzipped model size in bytes for pruned non quantized h5: 25699\n"
     ]
    }
   ],
   "source": [
    "# Get compressed size of baseline and pruned models\n",
    "MODEL_SIZE = {}\n",
    "MODEL_SIZE['baseline h5'] = get_gzipped_model_size(FILE_NON_QUANTIZED_H5)\n",
    "MODEL_SIZE['pruned non quantized h5'] = get_gzipped_model_size(FILE_PRUNED_MODEL_H5)\n",
    "\n",
    "print_metric(MODEL_SIZE, \"gzipped model size in bytes\")"
   ]
  },
  {
   "cell_type": "markdown",
   "metadata": {
    "id": "uByyx0L3mlYc"
   },
   "source": [
    "You can make the model even more lightweight by quantizing the pruned model. This achieves around 10X reduction in compressed model size as compared to the baseline."
   ]
  },
  {
   "cell_type": "code",
   "execution_count": 31,
   "metadata": {
    "id": "qIY6n9XWCvt5"
   },
   "outputs": [
    {
     "name": "stdout",
     "output_type": "stream",
     "text": [
      "INFO:tensorflow:Assets written to: /var/folders/n0/xljsl5jj1kx90hb4mmgvj9l80000gn/T/tmp4tzx7tt8/assets\n"
     ]
    },
    {
     "name": "stderr",
     "output_type": "stream",
     "text": [
      "INFO:tensorflow:Assets written to: /var/folders/n0/xljsl5jj1kx90hb4mmgvj9l80000gn/T/tmp4tzx7tt8/assets\n",
      "2023-11-06 13:55:56.259864: W tensorflow/compiler/mlir/lite/python/tf_tfl_flatbuffer_helpers.cc:363] Ignored output_format.\n",
      "2023-11-06 13:55:56.259882: W tensorflow/compiler/mlir/lite/python/tf_tfl_flatbuffer_helpers.cc:366] Ignored drop_control_dependency.\n",
      "WARNING:absl:Buffer deduplication procedure will be skipped when flatbuffer library is not properly loaded\n"
     ]
    },
    {
     "name": "stdout",
     "output_type": "stream",
     "text": [
      "gzipped model size in bytes for baseline h5: 78032\n",
      "gzipped model size in bytes for pruned non quantized h5: 25699\n",
      "gzipped model size in bytes for pruned quantized tflite: 8163\n"
     ]
    },
    {
     "name": "stderr",
     "output_type": "stream",
     "text": [
      "2023-11-06 13:55:56.260014: I tensorflow/cc/saved_model/reader.cc:43] Reading SavedModel from: /var/folders/n0/xljsl5jj1kx90hb4mmgvj9l80000gn/T/tmp4tzx7tt8\n",
      "2023-11-06 13:55:56.261016: I tensorflow/cc/saved_model/reader.cc:107] Reading meta graph with tags { serve }\n",
      "2023-11-06 13:55:56.261027: I tensorflow/cc/saved_model/reader.cc:148] Reading SavedModel debug info (if present) from: /var/folders/n0/xljsl5jj1kx90hb4mmgvj9l80000gn/T/tmp4tzx7tt8\n",
      "2023-11-06 13:55:56.265022: I tensorflow/cc/saved_model/loader.cc:228] Restoring SavedModel bundle.\n",
      "2023-11-06 13:55:56.281912: I tensorflow/cc/saved_model/loader.cc:212] Running initialization op on SavedModel bundle at path: /var/folders/n0/xljsl5jj1kx90hb4mmgvj9l80000gn/T/tmp4tzx7tt8\n",
      "2023-11-06 13:55:56.291706: I tensorflow/cc/saved_model/loader.cc:301] SavedModel load for tags { serve }; Status: success: OK. Took 31691 microseconds.\n",
      "2023-11-06 13:55:56.337721: I tensorflow/lite/tools/optimize/quantize_weights.cc:225] Skipping quantization of tensor sequential/conv2d/Conv2D because it has fewer than 1024 elements (108).\n"
     ]
    }
   ],
   "source": [
    "# Convert and quantize the pruned model.\n",
    "pruned_quantized_tflite = convert_tflite(model_for_export, FILE_PRUNED_QUANTIZED_TFLITE, quantize=True)\n",
    "\n",
    "# Compress and get the model size\n",
    "MODEL_SIZE['pruned quantized tflite'] = get_gzipped_model_size(FILE_PRUNED_QUANTIZED_TFLITE)\n",
    "print_metric(MODEL_SIZE, \"gzipped model size in bytes\")"
   ]
  },
  {
   "cell_type": "markdown",
   "metadata": {
    "id": "v4ytiH3ynIid"
   },
   "source": [
    "As expected, the TF Lite model's accuracy will also be close to the Keras model."
   ]
  },
  {
   "cell_type": "code",
   "execution_count": 32,
   "metadata": {
    "id": "PZBAdJmuWN0A"
   },
   "outputs": [
    {
     "name": "stdout",
     "output_type": "stream",
     "text": [
      "313/313 [==============================] - 1s 2ms/step - loss: 0.1066 - accuracy: 0.9676\n",
      "accuracy for pruned model h5: 0.9675999879837036\n",
      "accuracy for pruned and quantized tflite: 0.9675\n"
     ]
    }
   ],
   "source": [
    "# Get accuracy of pruned Keras and TF Lite models\n",
    "ACCURACY = {}\n",
    "\n",
    "_, ACCURACY['pruned model h5'] = model_for_pruning.evaluate(test_images, test_labels)\n",
    "ACCURACY['pruned and quantized tflite'] = evaluate_tflite_model(FILE_PRUNED_QUANTIZED_TFLITE, test_images, test_labels)\n",
    "\n",
    "print_metric(ACCURACY, 'accuracy')"
   ]
  },
  {
   "cell_type": "markdown",
   "metadata": {
    "id": "CpM7t_nGokcz"
   },
   "source": [
    "## Wrap Up\n",
    "\n",
    "In this notebook, you practiced several techniques in optimizing your models for mobile and embedded applications. You used quantization to reduce floating point representations into integer, then used pruning to make the weights sparse for efficient model compression. These make your models lightweight for efficient transport and storage without sacrificing model accuracy. Try this in your own models and see what performance you get. For more information, here are a few other resources:\n",
    "\n",
    "* [Post Training Quantization Guide](https://www.tensorflow.org/lite/performance/post_training_quantization)\n",
    "* [Quantization Aware Training Comprehensive Guide](https://www.tensorflow.org/model_optimization/guide/quantization/training_comprehensive_guide)\n",
    "* [Pruning Comprehensive Guide](https://www.tensorflow.org/model_optimization/guide/pruning/comprehensive_guide)\n",
    "\n",
    "**Congratulations and enjoy the rest of the course!**"
   ]
  }
 ],
 "metadata": {
  "colab": {
   "name": "C3_W2_Lab_3_Quantization_and_Pruning.ipynb",
   "private_outputs": true,
   "provenance": []
  },
  "kernelspec": {
   "display_name": "Python 3 (ipykernel)",
   "language": "python",
   "name": "python3"
  },
  "language_info": {
   "codemirror_mode": {
    "name": "ipython",
    "version": 3
   },
   "file_extension": ".py",
   "mimetype": "text/x-python",
   "name": "python",
   "nbconvert_exporter": "python",
   "pygments_lexer": "ipython3",
   "version": "3.8.12"
  }
 },
 "nbformat": 4,
 "nbformat_minor": 1
}
